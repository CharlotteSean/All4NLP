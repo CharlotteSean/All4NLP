{
 "cells": [
  {
   "cell_type": "markdown",
   "metadata": {},
   "source": [
    "# FSM: 有限状态机"
   ]
  },
  {
   "cell_type": "markdown",
   "metadata": {},
   "source": [
    "## 是什么？"
   ]
  },
  {
   "cell_type": "markdown",
   "metadata": {},
   "source": [
    "### 简单来说\n",
    "\n",
    "- 有限状态机称有限状态自动机，简称状态机，是种算法思想\n",
    "- 是表示有限个状态以及在这些状态之间的转移和动作等行为的数学模型。\n",
    "- 一般有限状态机由一组状态、一个初始状态、输入和根据输入及现有状态转换为下一个状态的转换函数组成"
   ]
  },
  {
   "cell_type": "markdown",
   "metadata": {},
   "source": [
    "### 逻辑\n",
    "\n",
    "![](https://upload.wikimedia.org/wikipedia/commons/thumb/6/64/Finite_State_Machine_Logic.svg/400px-Finite_State_Machine_Logic.svg.png)"
   ]
  },
  {
   "cell_type": "markdown",
   "metadata": {},
   "source": [
    "### 数学模型\n",
    "\n",
    "有限状态机是五元组 $(\\Sigma ,S,s_{0},\\delta ,F)$，这里的：\n",
    "\n",
    "- $\\Sigma$ 是输入字母表（符号的非空有限集合）。\n",
    "- $S$ 是状态的非空有限集合。\n",
    "- $s_{0} \\in S$ 是初始状态。\n",
    "- $\\delta$ 是状态转移函数：$\\delta :S\\times \\Sigma \\rightarrow S$。\n",
    "- $F \\subseteq S$ 是接受状态集"
   ]
  },
  {
   "cell_type": "markdown",
   "metadata": {},
   "source": [
    "### 例子\n",
    "\n",
    "![](https://upload.wikimedia.org/wikipedia/commons/thumb/9/9d/DFAexample.svg/440px-DFAexample.svg.png)  \n",
    "\n",
    "- $\\Sigma: \\{0, 1\\}$\n",
    "- $S: \\{S_1, S_2\\}$\n",
    "- $S_{1} \\in S$ 是初始状态\n",
    "- $F = \\{S_1\\}$\n",
    "- $\\delta$: (S1, 0) -> S2, (S1, 1) -> S1, (S2, 0) -> S1 and (S2, 1) -> S2\n",
    "\n",
    "\n",
    "   | 0 | 1\n",
    "-- |---|---\n",
    "S1 | S2| S1\n",
    "S2 | S1| S2"
   ]
  },
  {
   "cell_type": "markdown",
   "metadata": {},
   "source": [
    "## 怎么做？"
   ]
  },
  {
   "cell_type": "markdown",
   "metadata": {},
   "source": [
    "- 一系列有限度的，有明确顺序的状态\n",
    "- 状态间的切换，也是明确的不变的条件\n",
    "- 这种情况，使用 FSM 来解决就对了  \n",
    "\n",
    "举个例子：  \n",
    "\n",
    "网页上有一个菜单元素。  \n",
    "- 鼠标悬停的时候，菜单显示；\n",
    "- 鼠标移开的时候，菜单隐藏。  \n",
    "\n",
    "如果使用有限状态机描述，就是这个菜单只有两种状态（显示和隐藏），鼠标会引发状态转变。"
   ]
  },
  {
   "cell_type": "markdown",
   "metadata": {},
   "source": [
    "### Python 代码\n",
    "\n",
    "We want to recognize the meaning of very small sentences with an extremely limited vocabulary and syntax:  \n",
    "These sentences should start with \"Python is\" followed by\n",
    "- an adjective or\n",
    "- the word \"not\" followed by an adjective.\n",
    "\n",
    "e.g.  \n",
    "\"Python is great\" → positive meaning  \n",
    "\"Python is stupid\" → negative meaning  \n",
    "\"Python is not ugly\" → positive meaning  \n",
    "\n",
    "![](http://www.python-course.eu/images/finite_state_machine_example.png)"
   ]
  },
  {
   "cell_type": "code",
   "execution_count": 3,
   "metadata": {},
   "outputs": [
    {
     "name": "stdout",
     "output_type": "stream",
     "text": [
      "<function start_transitions at 0x10459fd08>\n",
      "<function python_state_transitions at 0x10459fb70>\n",
      "<function is_state_transitions at 0x10459fae8>\n",
      "<function not_state_transitions at 0x10459fa60>\n",
      "None\n",
      "ha\n",
      "None\n",
      "ha\n",
      "None\n",
      "ha\n",
      "reached  pos_state\n",
      "reached  neg_state\n",
      "reached  error_state\n",
      "reached  pos_state\n",
      "reached  error_state\n"
     ]
    }
   ],
   "source": [
    "# Python FSM Demo\n",
    "class StateMachine:\n",
    "    def __init__(self):\n",
    "        self.handlers = {}\n",
    "        self.startState = None\n",
    "        self.endStates = []\n",
    "    # 添加一个状态\n",
    "    def add_state(self, name, handler, end_state=0):\n",
    "        name = name.upper()\n",
    "        # handler 是定义的迁移条件和目标状态函数\n",
    "        self.handlers[name] = handler\n",
    "        print(handler)\n",
    "        if end_state:\n",
    "            print('ha')\n",
    "            self.endStates.append(name)\n",
    "    # 设置起始状态\n",
    "    def set_start(self, name):\n",
    "        self.startState = name.upper()\n",
    "\n",
    "    def run(self, cargo):\n",
    "        try:\n",
    "            handler = self.handlers[self.startState]\n",
    "        except:\n",
    "            raise InitializationError(\"must call .set_start() before .run()\")\n",
    "        if not self.endStates:\n",
    "            raise  InitializationError(\"at least one state must be an end_state\")\n",
    "    \n",
    "        while True:\n",
    "            (newState, cargo) = handler(cargo)\n",
    "            # endStates 即手动添加的 pos，neg 和 error\n",
    "            if newState.upper() in self.endStates:\n",
    "                print(\"reached \", newState)\n",
    "                break \n",
    "            else:\n",
    "                handler = self.handlers[newState.upper()]\n",
    "\n",
    "\n",
    "positive_adjectives = [\"great\",\"super\", \"fun\", \"entertaining\", \"easy\"]\n",
    "negative_adjectives = [\"boring\", \"difficult\", \"ugly\", \"bad\"]\n",
    "\n",
    "# 每个单词迁移条件及目标状态\n",
    "\n",
    "# start state\n",
    "def start_transitions(txt):\n",
    "    # txt.split(None,1) 1 为分开后的最高序列 ID\n",
    "    # 'Python is a' split 后为 'Python', 'is a'\n",
    "    splitted_txt = txt.split(None,1)\n",
    "    word, txt = splitted_txt if len(splitted_txt) > 1 else (txt,\"\")\n",
    "    if word == \"Python\":\n",
    "        newState = \"Python_state\"\n",
    "    else:\n",
    "        newState = \"error_state\"\n",
    "    return (newState, txt)\n",
    "\n",
    "# is state\n",
    "def python_state_transitions(txt):\n",
    "    splitted_txt = txt.split(None,1)\n",
    "    word, txt = splitted_txt if len(splitted_txt) > 1 else (txt,\"\")\n",
    "    if word == \"is\":\n",
    "        newState = \"is_state\"\n",
    "    else:\n",
    "        newState = \"error_state\"\n",
    "    return (newState, txt)\n",
    "\n",
    "# next state is 'is'\n",
    "def is_state_transitions(txt):\n",
    "    splitted_txt = txt.split(None,1)\n",
    "    word, txt = splitted_txt if len(splitted_txt) > 1 else (txt,\"\")\n",
    "    # not state\n",
    "    if word == \"not\":\n",
    "        newState = \"not_state\"\n",
    "    elif word in positive_adjectives:\n",
    "        newState = \"pos_state\"\n",
    "    elif word in negative_adjectives:\n",
    "        newState = \"neg_state\"\n",
    "    else:\n",
    "        newState = \"error_state\"\n",
    "    return (newState, txt)\n",
    "\n",
    "# next state is 'not'\n",
    "# 'not' state is a state of transition\n",
    "def not_state_transitions(txt):\n",
    "    splitted_txt = txt.split(None,1)\n",
    "    word, txt = splitted_txt if len(splitted_txt) > 1 else (txt,\"\")\n",
    "    if word in positive_adjectives:\n",
    "        newState = \"neg_state\"\n",
    "    elif word in negative_adjectives:\n",
    "        newState = \"pos_state\"\n",
    "    else:\n",
    "        newState = \"error_state\"\n",
    "    return (newState, txt)\n",
    "\n",
    "def neg_state(txt):\n",
    "    print(\"Hallo\")\n",
    "    return (\"neg_state\", \"\")\n",
    "\n",
    "if __name__== \"__main__\":\n",
    "    m = StateMachine()\n",
    "    # 添加状态\n",
    "    m.add_state(\"Start\", start_transitions)\n",
    "    m.add_state(\"Python_state\", python_state_transitions)\n",
    "    m.add_state(\"is_state\", is_state_transitions)\n",
    "    m.add_state(\"not_state\", not_state_transitions)\n",
    "    # 接受（结束）状态\n",
    "    m.add_state(\"neg_state\", None, end_state=1)\n",
    "    m.add_state(\"pos_state\", None, end_state=1)\n",
    "    m.add_state(\"error_state\", None, end_state=1)\n",
    "    # 设置初始状态\n",
    "    m.set_start(\"Start\")\n",
    "    # 运行实例\n",
    "    m.run(\"Python is great\")\n",
    "    m.run(\"Python is difficult\")\n",
    "    m.run(\"Perl is ugly\")\n",
    "    m.run(\"Python is not difficult\")\n",
    "    m.run(\"Python isn't great\")"
   ]
  },
  {
   "cell_type": "code",
   "execution_count": 330,
   "metadata": {},
   "outputs": [],
   "source": [
    "# Python transitions Demo\n",
    "from transitions import Machine\n",
    "import random\n",
    "\n",
    "class PythonState(object):\n",
    "    states = ['pos_state', 'neg_state', 'error_state', 'Python_state', 'is_state', 'not_state', 'Start_state', \n",
    "              'pos_neg_not_state', 'pos_neg_state']\n",
    "    positive_adjectives = [\"great\",\"super\", \"fun\", \"entertaining\", \"easy\"]\n",
    "    negative_adjectives = [\"boring\", \"difficult\", \"ugly\", \"bad\"]\n",
    "\n",
    "    def __init__(self, txt):\n",
    "\n",
    "        self.splitted_txt = txt.split()\n",
    "        self.words = self.splitted_txt if len(self.splitted_txt) > 1 else (txt)\n",
    "        \n",
    "        # Initialize the state machine\n",
    "        self.machine = Machine(model=self, states=PythonState.states, initial='Start_state')\n",
    "        \n",
    "        self.machine.add_transition(trigger='is_Python', source='Start_state', dest='Python_state', \n",
    "                                    conditions=['is_python'])\n",
    "        self.machine.add_transition(trigger='is_Python', source='Start_state', dest='error_state')  \n",
    "                \n",
    "        self.machine.add_transition('is_Is', 'Python_state', 'is_state',\n",
    "                                   conditions=['is_is'])\n",
    "        self.machine.add_transition('is_Is', 'Python_state', 'error_state')\n",
    "\n",
    "        \n",
    "        self.machine.add_transition('is_Pos_Neg_Not', 'is_state', 'pos_neg_not_state',\n",
    "                                   conditions=['is_pos_neg_not'])\n",
    "        self.machine.add_transition('is_Pos_Neg_Not', 'is_state', 'error_state')\n",
    "\n",
    "        \n",
    "        self.machine.add_transition('is_Pos_Neg', 'pos_neg_not_state', 'pos_neg_state',\n",
    "                                   conditions=['is_pos_neg'])\n",
    "        self.machine.add_transition('is_Pos_Neg', 'pos_neg_not_state', 'not_state')\n",
    "\n",
    "\n",
    "        self.machine.add_transition('is_Pos', 'pos_neg_state', 'pos_state',\n",
    "                                   conditions=['is_pos'])\n",
    "        self.machine.add_transition('is_Pos', 'pos_neg_state', 'neg_state')\n",
    "\n",
    "        \n",
    "        self.machine.add_transition('is_Pos', 'not_state', 'neg_state',\n",
    "                                   conditions=['is_not_pos'])\n",
    "        self.machine.add_transition('is_Pos', 'not_state', 'pos_state')\n",
    "\n",
    "    def is_python(self):\n",
    "        return self.words[0] == 'Python'\n",
    "    \n",
    "    def is_is(self):\n",
    "        return self.words[1] == 'is'\n",
    "    \n",
    "    def is_pos_neg_not(self):\n",
    "        return self.words[2] == 'not' or self.words[2] in (positive_adjectives + negative_adjectives)\n",
    "    \n",
    "    def is_pos_neg(self):\n",
    "        return self.words[2] != 'not' and self.words[2] in (positive_adjectives + negative_adjectives)\n",
    "\n",
    "    def is_pos(self):\n",
    "        return self.words[2] in positive_adjectives\n",
    "    \n",
    "    def is_not_pos(self):\n",
    "        return self.words[3] in positive_adjectives"
   ]
  },
  {
   "cell_type": "code",
   "execution_count": 331,
   "metadata": {},
   "outputs": [],
   "source": [
    "def test(text):\n",
    "    text = PythonState(text)\n",
    "    states = []\n",
    "    try:\n",
    "        text.is_Python()\n",
    "        states.append(text.state)\n",
    "        text.is_Is()\n",
    "        states.append(text.state)\n",
    "        text.is_Pos_Neg_Not()\n",
    "        states.append(text.state)\n",
    "        text.is_Pos_Neg()\n",
    "        states.append(text.state)\n",
    "        text.is_Pos()\n",
    "        states.append(text.state)\n",
    "    except:\n",
    "        pass\n",
    "    return states[-1]"
   ]
  },
  {
   "cell_type": "code",
   "execution_count": 332,
   "metadata": {
    "scrolled": false
   },
   "outputs": [
    {
     "name": "stdout",
     "output_type": "stream",
     "text": [
      "pos_state\n",
      "neg_state\n",
      "error_state\n",
      "pos_state\n",
      "error_state\n"
     ]
    }
   ],
   "source": [
    "print(test(\"Python is great\"))\n",
    "print(test(\"Python is difficult\"))\n",
    "print(test(\"Perl is ugly\"))\n",
    "print(test(\"Python is not difficult\"))\n",
    "print(test(\"Python isn't great\"))"
   ]
  },
  {
   "cell_type": "code",
   "execution_count": 337,
   "metadata": {
    "collapsed": true
   },
   "outputs": [],
   "source": [
    "# 另一段 Demo\n",
    "from transitions import Machine\n",
    "import random\n",
    "\n",
    "class NarcolepticSuperhero(object):\n",
    "\n",
    "    # Define some states. Most of the time, narcoleptic superheroes are just like\n",
    "    # everyone else. Except for...\n",
    "    states = ['asleep', 'hanging out', 'hungry', 'sweaty', 'saving the world']\n",
    "\n",
    "    def __init__(self, name):\n",
    "\n",
    "        # No anonymous superheroes on my watch! Every narcoleptic superhero gets\n",
    "        # a name. Any name at all. SleepyMan. SlumberGirl. You get the idea.\n",
    "        self.name = name\n",
    "\n",
    "        # What have we accomplished today?\n",
    "        self.kittens_rescued = 0\n",
    "\n",
    "        # Initialize the state machine\n",
    "        self.machine = Machine(model=self, states=NarcolepticSuperhero.states, initial='asleep')\n",
    "\n",
    "        # Add some transitions. We could also define these using a static list of\n",
    "        # dictionaries, as we did with states above, and then pass the list to\n",
    "        # the Machine initializer as the transitions= argument.\n",
    "\n",
    "        # At some point, every superhero must rise and shine.\n",
    "        self.machine.add_transition(trigger='wake_up', source='asleep', dest='hanging out')\n",
    "\n",
    "        # Superheroes need to keep in shape.\n",
    "        self.machine.add_transition('work_out', 'hanging out', 'hungry')\n",
    "\n",
    "        # Those calories won't replenish themselves!\n",
    "        self.machine.add_transition('eat', 'hungry', 'hanging out')\n",
    "\n",
    "        # Superheroes are always on call. ALWAYS. But they're not always\n",
    "        # dressed in work-appropriate clothing.\n",
    "        self.machine.add_transition('distress_call', '*', 'saving the world',\n",
    "                         before='change_into_super_secret_costume')\n",
    "\n",
    "        # When they get off work, they're all sweaty and disgusting. But before\n",
    "        # they do anything else, they have to meticulously log their latest\n",
    "        # escapades. Because the legal department says so.\n",
    "        self.machine.add_transition('complete_mission', 'saving the world', 'sweaty',\n",
    "                         after='update_journal')\n",
    "\n",
    "        # Sweat is a disorder that can be remedied with water.\n",
    "        # Unless you've had a particularly long day, in which case... bed time!\n",
    "        self.machine.add_transition('clean_up', 'sweaty', 'asleep', conditions=['is_exhausted']) # 各 50% 可能性\n",
    "        self.machine.add_transition('clean_up', 'sweaty', 'hanging out')\n",
    "\n",
    "        # Our NarcolepticSuperhero can fall asleep at pretty much any time.\n",
    "        self.machine.add_transition('nap', '*', 'asleep')\n",
    "\n",
    "    def update_journal(self):\n",
    "        \"\"\" Dear Diary, today I saved Mr. Whiskers. Again. \"\"\"\n",
    "        self.kittens_rescued += 1\n",
    "\n",
    "    def is_exhausted(self):\n",
    "        \"\"\" Basically a coin toss. \"\"\"\n",
    "        return random.random() < 0.5\n",
    "\n",
    "    def change_into_super_secret_costume(self):\n",
    "        print(\"Beauty, eh?\")"
   ]
  },
  {
   "cell_type": "code",
   "execution_count": 341,
   "metadata": {
    "scrolled": true
   },
   "outputs": [
    {
     "data": {
      "text/plain": [
       "'asleep'"
      ]
     },
     "execution_count": 341,
     "metadata": {},
     "output_type": "execute_result"
    }
   ],
   "source": [
    "batman = NarcolepticSuperhero(\"Batman\")\n",
    "batman.state"
   ]
  },
  {
   "cell_type": "code",
   "execution_count": 342,
   "metadata": {},
   "outputs": [
    {
     "data": {
      "text/plain": [
       "'hungry'"
      ]
     },
     "execution_count": 342,
     "metadata": {},
     "output_type": "execute_result"
    }
   ],
   "source": [
    "batman.wake_up()\n",
    "batman.work_out()\n",
    "batman.state"
   ]
  },
  {
   "cell_type": "code",
   "execution_count": 343,
   "metadata": {},
   "outputs": [
    {
     "data": {
      "text/plain": [
       "0"
      ]
     },
     "execution_count": 343,
     "metadata": {},
     "output_type": "execute_result"
    }
   ],
   "source": [
    "batman.kittens_rescued"
   ]
  },
  {
   "cell_type": "code",
   "execution_count": 344,
   "metadata": {},
   "outputs": [
    {
     "name": "stdout",
     "output_type": "stream",
     "text": [
      "Beauty, eh?\n"
     ]
    },
    {
     "data": {
      "text/plain": [
       "True"
      ]
     },
     "execution_count": 344,
     "metadata": {},
     "output_type": "execute_result"
    }
   ],
   "source": [
    "batman.distress_call()"
   ]
  },
  {
   "cell_type": "code",
   "execution_count": 345,
   "metadata": {},
   "outputs": [
    {
     "data": {
      "text/plain": [
       "'saving the world'"
      ]
     },
     "execution_count": 345,
     "metadata": {},
     "output_type": "execute_result"
    }
   ],
   "source": [
    "batman.state"
   ]
  },
  {
   "cell_type": "code",
   "execution_count": 346,
   "metadata": {},
   "outputs": [
    {
     "data": {
      "text/plain": [
       "'sweaty'"
      ]
     },
     "execution_count": 346,
     "metadata": {},
     "output_type": "execute_result"
    }
   ],
   "source": [
    "batman.complete_mission()\n",
    "batman.state"
   ]
  },
  {
   "cell_type": "code",
   "execution_count": 347,
   "metadata": {},
   "outputs": [
    {
     "data": {
      "text/plain": [
       "'hanging out'"
      ]
     },
     "execution_count": 347,
     "metadata": {},
     "output_type": "execute_result"
    }
   ],
   "source": [
    "batman.clean_up()\n",
    "batman.state"
   ]
  },
  {
   "cell_type": "code",
   "execution_count": 348,
   "metadata": {},
   "outputs": [
    {
     "data": {
      "text/plain": [
       "1"
      ]
     },
     "execution_count": 348,
     "metadata": {},
     "output_type": "execute_result"
    }
   ],
   "source": [
    "batman.kittens_rescued"
   ]
  },
  {
   "cell_type": "markdown",
   "metadata": {},
   "source": [
    "### JS 代码  \n",
    "\n",
    "交通信号灯（红绿灯）    \n",
    "[JavaScript与有限状态机 - 阮一峰的网络日志](http://www.ruanyifeng.com/blog/2013/09/finite-state_machine_for_javascript.html)  \n",
    "[jakesgordon/javascript-state-machine: A javascript finite state machine library](https://github.com/jakesgordon/javascript-state-machine)"
   ]
  },
  {
   "cell_type": "markdown",
   "metadata": {},
   "source": [
    ">一个对象的状态越多、发生的事件越多，就越适合采用有限状态机的写法。  \n",
    "另外，JavaScript 语言是一种异步操作特别多的语言，常用的解决方法是指定回调函数，但这样会造成代码结构混乱、难以测试和除错等问题。  \n",
    "有限状态机提供了更好的办法：把异步操作与对象的状态改变挂钩，当异步操作结束的时候，发生相应的状态改变，由此再触发其他操作。  \n",
    "这要比回调函数、事件监听、发布/订阅等解决方案，在逻辑上更合理，更易于降低代码的复杂度。"
   ]
  },
  {
   "cell_type": "code",
   "execution_count": null,
   "metadata": {
    "collapsed": true
   },
   "outputs": [],
   "source": [
    "　　var fsm = StateMachine.create({\n",
    "　　\n",
    "　　　　initial: 'green',\n",
    "　　\n",
    "　　　　events: [\n",
    "　　　　　　{ name: 'warn',  from: 'green',  to: 'yellow' },\n",
    "　　　　　　{ name: 'stop', from: 'yellow', to: 'red' },\n",
    "　　　　　　{ name: 'ready',  from: 'red',    to: 'yellow' },\n",
    "　　　　　　{ name: 'go', from: 'yellow', to: 'green' }\n",
    "　　　　]\n",
    "　　\n",
    "　　});"
   ]
  },
  {
   "cell_type": "markdown",
   "metadata": {},
   "source": [
    "生成实例以后，就可以随时查询当前状态。  \n",
    "* `fsm.current` ：返回当前状态。\n",
    "* `fsm.is(s)` ：返回一个布尔值，表示状态 s 是否为当前状态。\n",
    "* `fsm.can(e)` ：返回一个布尔值，表示事件 e 是否能在当前状态触发。\n",
    "* `fsm.cannot(e)` ：返回一个布尔值，表示事件 e 是否不能在当前状态触发。"
   ]
  },
  {
   "cell_type": "markdown",
   "metadata": {},
   "source": [
    "JFSM 允许为每个**事件**或**状态**指定两个回调函数：  \n",
    "\n",
    "* `onbeforewarn`：在warn事件发生之前触发。\n",
    "* `onafterwarn`（可简写成 onwarn） ：在 warn 事件发生之后触发。\n",
    "* `onwarn`：在 warn 时间发生之间。\n",
    "* `onleavegreen` ：在离开 green 状态时触发。\n",
    "* `onentergreen`（可简写成 ongreen） ：在进入 green 状态时触发。  \n",
    "\n",
    "假定 warn 事件使得状态从 green 变为 yellow，上面四类回调函数的发生顺序如下：  \n",
    "onbeforewarn → onleavegreen → onenteryellow → onafterwarn。"
   ]
  },
  {
   "cell_type": "markdown",
   "metadata": {},
   "source": [
    "除了为每个事件和状态单独指定回调函数，还可以为所有的事件和状态指定通用的回调函数。  \n",
    "\n",
    "* `onbeforeevent` ：任一事件发生之前触发。\n",
    "* `onleavestate` ：离开任一状态时触发。\n",
    "* `onevent`: 在事件发生期间触发。\n",
    "* `onenterstate` ：进入任一状态时触发。\n",
    "* `onafterevent` ：任一事件结束后触发。"
   ]
  },
  {
   "cell_type": "markdown",
   "metadata": {},
   "source": [
    "如果事件的回调函数里面有异步操作（比如与服务器进行 Ajax 通信），这时我们可能希望等到异步操作结束，再发生状态改变。  \n",
    "这就要用到 transition 方法。"
   ]
  },
  {
   "cell_type": "code",
   "execution_count": null,
   "metadata": {
    "collapsed": true
   },
   "outputs": [],
   "source": [
    "　　fsm.onleavegreen = function(){\n",
    "        # 异步操作 light.fadeOut\n",
    "　　　　light.fadeOut('slow', function() {\n",
    "　　　　　　fsm.transition();\n",
    "　　　　});\n",
    "        # 如果不希望状态立即改变，就要让回调函数返回 StateMachine.ASYNC，表示状态暂时不改变；\n",
    "        # 等到异步操作结束，再调用 transition 方法，使得状态发生改变。\n",
    "　　　　return StateMachine.ASYNC;\n",
    "　　};"
   ]
  },
  {
   "cell_type": "code",
   "execution_count": null,
   "metadata": {
    "collapsed": true
   },
   "outputs": [],
   "source": [
    "# 测试代码\n",
    "var fsm = new StateMachine({\n",
    "    init: 'solid',\n",
    "    transitions: [\n",
    "      { name: 'melt',     from: 'solid',  to: 'liquid' },\n",
    "      { name: 'freeze',   from: 'liquid', to: 'solid'  },\n",
    "      { name: 'vaporize', from: 'liquid', to: 'gas'    },\n",
    "      { name: 'condense', from: 'gas',    to: 'liquid' }\n",
    "    ],\n",
    "    methods: {\n",
    "      # 事件发生后触发，等于 onAfter\n",
    "      onAfterMelt:  function()       { console.log('I melted')    },\n",
    "      # 事件发生前触发\n",
    "      onBeforeMelt: function()       { console.log('I am frozing')},\n",
    "      # 进入状态时触发  等于 onentergas\n",
    "      onEnterGas:   function()       { console.log('I am liquid, want to be gas') },\n",
    "      # 离开状态时触发\n",
    "      onLeaveGas:   function()       { console.log('I have just condensed from gas to liquid') }\n",
    "    }\n",
    "  });"
   ]
  },
  {
   "cell_type": "code",
   "execution_count": null,
   "metadata": {
    "collapsed": true
   },
   "outputs": [],
   "source": [
    "# test\n",
    "var StateMachine = require('javascript-state-machine');\n",
    "var fsm = new StateMachine({\n",
    "    init: 'solid',\n",
    "    transitions: [\n",
    "      { name: 'melt',     from: 'solid',  to: 'liquid' },\n",
    "      { name: 'freeze',   from: 'liquid', to: 'solid'  },\n",
    "      { name: 'vaporize', from: 'liquid', to: 'gas'    },\n",
    "      { name: 'condense', from: 'gas',    to: 'liquid' }\n",
    "    ],\n",
    "    methods: {\n",
    "      onBeforeMelt:  function()       { console.log('I am melting')},\n",
    "      onAfterMelt:   function()       { console.log('I melted')    },\n",
    "      onEnterSolid:  function()       { console.log('I am solid, want to be liquid') },\n",
    "      onLeaveLiquid: function()       { console.log('I have just frozen from liquid to solid') }\n",
    "    }\n",
    "  });"
   ]
  },
  {
   "cell_type": "markdown",
   "metadata": {},
   "source": [
    "运行结果：  \n",
    "\n",
    "```\n",
    "I am solid, want to be liquid\n",
    "undefined\n",
    "> fsm.melt()\n",
    "I am melting\n",
    "I melted\n",
    "true\n",
    "> fsm.state\n",
    "'liquid'\n",
    "> fsm.freeze()\n",
    "I have just frozen from liquid to solid\n",
    "I am solid, want to be liquid\n",
    "true\n",
    ">```"
   ]
  },
  {
   "cell_type": "markdown",
   "metadata": {},
   "source": [
    "### 常见应用  \n",
    "\n",
    "\n",
    "搜索引擎分词，词法分析器，正则表达式引擎，xml/json/css解析器， 游戏 NPC 设计等\n",
    "\n",
    "\n",
    "\n",
    "\n",
    "[有限状态机](http://helloitworks.com/754.html)"
   ]
  },
  {
   "cell_type": "markdown",
   "metadata": {},
   "source": [
    "## 为什么？"
   ]
  },
  {
   "cell_type": "markdown",
   "metadata": {},
   "source": [
    "如果使用状态机：  \n",
    "只要描定义出所有状态，明白状态之间的转换，然后执行相应的动作  \n",
    "\n",
    "一大堆的 if elif else 判定树就可以全部丢掉了! 变成类似的非常简单的:  \n",
    "**将复杂的有前后顺序要求的流程上下文判定，都丢给有限状态机去处理。**"
   ]
  },
  {
   "cell_type": "markdown",
   "metadata": {},
   "source": [
    "## 小结\n",
    "\n",
    "- 一种基于图（节点为状态，边为转移路径）的模式指定方式，一种抽象\n",
    "- 在 FSM 眼里，程序就是从一种状态转移到另一种状态，通过确定从起始状态到某个用相应序列标记的接受状态之间是否存在路径（可能性）"
   ]
  },
  {
   "cell_type": "markdown",
   "metadata": {},
   "source": [
    "## 参考文献及资料\n",
    "\n",
    "\n",
    "- [确定和不确定的有限自动机，以及正则表达式——形式语言和自动机的那一套理论【1】 - 知乎专栏](https://zhuanlan.zhihu.com/p/27149604)\n",
    "- [第 10 章　模式、自动机和正则表达式-图灵社区](http://www.ituring.com.cn/book/tupubarticle/5512)\n",
    "- Python FSM 库\n",
    "    - [pytransitions/transitions: A lightweight, object-oriented finite state machine implementation in Python](https://github.com/pytransitions/transitions)\n",
    "    - [mriehl/fysom: Finite State Machine for Python (based on Jake Gordon's javascript-state-machine)](https://github.com/mriehl/fysom)\n",
    "- JS FSM 库\n",
    "  - [jakesgordon/javascript-state-machine: A javascript finite state machine library](https://github.com/jakesgordon/javascript-state-machine)\n",
    "- [可爱的 Python：使用状态机](https://www.ibm.com/developerworks/cn/linux/sdk/python/python-4/index.html)\n",
    "- [chaos2wechat/fsm.rst at master · ZoomQuiet/chaos2wechat](https://github.com/ZoomQuiet/chaos2wechat/blob/master/source/ch03/fsm.rst#pyfsm)\n",
    "- [JavaScript与有限状态机 - 阮一峰的网络日志](http://www.ruanyifeng.com/blog/2013/09/finite-state_machine_for_javascript.html)\n",
    "- C 实现：[有限状态机](http://helloitworks.com/754.html)\n",
    "- C 设计：[有限状态机（FSM）的设计与实现（一） - 平凡之路 - 博客园](http://www.cnblogs.com/chencheng/archive/2012/06/25/2562660.html)\n",
    "- Java 实现：[有限状态机FSM的几种简单实现 - 简书](http://www.jianshu.com/p/3ca1ff2d7344)\n",
    "- Go 实现：[一个有特色的有限状态机 | 鸟窝](http://colobu.com/2016/12/24/a-featured-fsm/)  \n",
    "- Python 实现：[[python]有限状态机（FSM）简单实现 - 赖勇浩的编程私伙局 - CSDN博客](http://blog.csdn.net/gzlaiyonghao/article/details/1510688)\n",
    "- Erlang OTP：[Gen_Fsm行为 — Erlang OTP Design Principles v0.1 documentation](http://erlang.shiningray.cn/otp-design-principles/gen_fsm.html)\n",
    "- [自述 | Redux 中文文档 Join the chat at https://gitter.im/camsong/redux-in-chinese](http://cn.redux.js.org/)\n",
    "- Coursera 课程：[自动机理论 Automata](http://mooc.guokr.com/course/418/Automata/)"
   ]
  },
  {
   "cell_type": "code",
   "execution_count": null,
   "metadata": {
    "collapsed": true
   },
   "outputs": [],
   "source": []
  }
 ],
 "metadata": {
  "kernelspec": {
   "display_name": "Python 3",
   "language": "python",
   "name": "python3"
  },
  "language_info": {
   "codemirror_mode": {
    "name": "ipython",
    "version": 3
   },
   "file_extension": ".py",
   "mimetype": "text/x-python",
   "name": "python",
   "nbconvert_exporter": "python",
   "pygments_lexer": "ipython3",
   "version": "3.6.5"
  },
  "latex_envs": {
   "LaTeX_envs_menu_present": true,
   "autoclose": false,
   "autocomplete": true,
   "bibliofile": "biblio.bib",
   "cite_by": "apalike",
   "current_citInitial": 1,
   "eqLabelWithNumbers": true,
   "eqNumInitial": 1,
   "hotkeys": {
    "equation": "Ctrl-E",
    "itemize": "Ctrl-I"
   },
   "labels_anchors": false,
   "latex_user_defs": false,
   "report_style_numbering": false,
   "user_envs_cfg": false
  },
  "toc": {
   "base_numbering": 1,
   "nav_menu": {},
   "number_sections": true,
   "sideBar": true,
   "skip_h1_title": false,
   "title_cell": "Table of Contents",
   "title_sidebar": "Contents",
   "toc_cell": false,
   "toc_position": {},
   "toc_section_display": true,
   "toc_window_display": true
  }
 },
 "nbformat": 4,
 "nbformat_minor": 1
}
