{
 "cells": [
  {
   "cell_type": "markdown",
   "metadata": {
    "toc": "true"
   },
   "source": [
    "<h1>Table of Contents<span class=\"tocSkip\"></span></h1>\n",
    "<div class=\"toc\"><ul class=\"toc-item\"><li><span><a href=\"#知识提取大纲\" data-toc-modified-id=\"知识提取大纲-1\"><span class=\"toc-item-num\">1&nbsp;&nbsp;</span>知识提取大纲</a></span></li><li><span><a href=\"#正则表达式\" data-toc-modified-id=\"正则表达式-2\"><span class=\"toc-item-num\">2&nbsp;&nbsp;</span>正则表达式</a></span><ul class=\"toc-item\"><li><span><a href=\"#RE\" data-toc-modified-id=\"RE-2.1\"><span class=\"toc-item-num\">2.1&nbsp;&nbsp;</span><code>RE</code></a></span></li><li><span><a href=\"#正则要义\" data-toc-modified-id=\"正则要义-2.2\"><span class=\"toc-item-num\">2.2&nbsp;&nbsp;</span>正则要义</a></span></li><li><span><a href=\"#参考&amp;进阶\" data-toc-modified-id=\"参考&amp;进阶-2.3\"><span class=\"toc-item-num\">2.3&nbsp;&nbsp;</span>参考&amp;进阶</a></span></li></ul></li><li><span><a href=\"#中文分词和词性标注\" data-toc-modified-id=\"中文分词和词性标注-3\"><span class=\"toc-item-num\">3&nbsp;&nbsp;</span>中文分词和词性标注</a></span><ul class=\"toc-item\"><li><span><a href=\"#jieba\" data-toc-modified-id=\"jieba-3.1\"><span class=\"toc-item-num\">3.1&nbsp;&nbsp;</span><code>jieba</code></a></span></li><li><span><a href=\"#PyNLPIR\" data-toc-modified-id=\"PyNLPIR-3.2\"><span class=\"toc-item-num\">3.2&nbsp;&nbsp;</span><code>PyNLPIR</code></a></span></li><li><span><a href=\"#中文词性标记集\" data-toc-modified-id=\"中文词性标记集-3.3\"><span class=\"toc-item-num\">3.3&nbsp;&nbsp;</span>中文词性标记集</a></span></li><li><span><a href=\"#其他参考\" data-toc-modified-id=\"其他参考-3.4\"><span class=\"toc-item-num\">3.4&nbsp;&nbsp;</span>其他参考</a></span></li></ul></li><li><span><a href=\"#命名实体识别\" data-toc-modified-id=\"命名实体识别-4\"><span class=\"toc-item-num\">4&nbsp;&nbsp;</span>命名实体识别</a></span></li><li><span><a href=\"#作业\" data-toc-modified-id=\"作业-5\"><span class=\"toc-item-num\">5&nbsp;&nbsp;</span>作业</a></span><ul class=\"toc-item\"><li><span><a href=\"#思路\" data-toc-modified-id=\"思路-5.1\"><span class=\"toc-item-num\">5.1&nbsp;&nbsp;</span>思路</a></span></li><li><span><a href=\"#实现\" data-toc-modified-id=\"实现-5.2\"><span class=\"toc-item-num\">5.2&nbsp;&nbsp;</span>实现</a></span></li></ul></li></ul></div>"
   ]
  },
  {
   "cell_type": "markdown",
   "metadata": {},
   "source": [
    "# 知识提取大纲\n",
    "\n",
    "知识提取是要解决结构化数据生成的问题。  \n",
    "但是广义上讲，知识提取是数据质量提升中的一环，各种提升数据质量的方法，都可以视为某种知识提取。  \n",
    "学术上一般是用自然语言处理的方法，但在实践中通常是利用规则。\n",
    "\n",
    "我们要熟悉的概念和工具有\n",
    "\n",
    "[×] 正则表达式\n",
    "\n",
    "[×] 中文分词和词性标注\n",
    "\n",
    "[×] 命名实体识别\n",
    "\n",
    "作业：综合分词工具和正则表达式提取邮件签名档"
   ]
  },
  {
   "cell_type": "markdown",
   "metadata": {},
   "source": [
    "# 正则表达式"
   ]
  },
  {
   "cell_type": "markdown",
   "metadata": {
    "collapsed": true
   },
   "source": [
    "各类参数详见官方手册：[6.2. re — Regular expression operations — Python 3.6.2 documentation](https://docs.python.org/3/library/re.html)，强大，完善。\n",
    "\n",
    "\n",
    "## `RE`\n",
    "\n",
    "- `re.compile()`\n",
    "  - 在字符串前加个 \"r\" 反斜杠就不会被任何特殊方式处理\n",
    "  - `re.findall(rf'{t}', s)`: **`f` 表示 `t` 可以使用变量**\n",
    "  - compile 常用的表达式更高效\n",
    "    - 使用编译的表达式能避免高速缓存查找开销，将编译工作转移到应用程序启动时，而不是程序响应用户操作\n",
    "  - `re.compile(pattern, re.IGNORECASE)`: IGNORECASE 忽略大小写\n",
    "  - `re.compile(pattern, re.MULTILINE)`: 是否按行匹配，带参数按行，不带参数整个字符串为整体（不考虑换行符）\n",
    "  - `re.compile(pattern, re.DOTALL)`: 默认不匹配换行符，带参数匹配换行符\n",
    "  - `re.compile(pattern, re.Unicode | re.VERBOSE)`: 让 pattern 看起来更易读。多个标志可以通过按位 OR-ing 它们来指定。如 `re.I | re.M` 被设置成 I 和 M 标志\n",
    "  - 嵌入标志（编译表达式无法添加标志时，可以在表达式字符串本身内嵌入标志）\n",
    "    - 打开不区分大小写匹配项: `(?i)` 添加到 pattern 的最前面就好\n",
    "    - `i: IGNORECASE; m: MULTILINE; s: DOTALL; u: UNICODE; x: VERBOSE`\n",
    "  - `(?:pattern)`: 无捕获组，对于修改已有组尤其有用，因为你可以不用改变所有其他组号的情况下添加一个新组。\n",
    "  - `(?P<name>...)` 定义一个命名组，`(?P=name)` 则是对命名组的逆向引用；逆向引用允许你指定先前捕获组的内容，该组也必须在字符串当前位置被找到。举个例子，如果组 1 的内容能够在当前位置找到的话，\\1 就成功否则失败。除了用数字指定组，它可以用名字来指定，如：`(\\b\\w+)\\s+\\1` 也可以被写成 `(?P<word>\\b\\w+)\\s+(?P=word)`\n",
    "      - `re.compile(r'(\\w+)\\1\\1\\1')`: 匹配一个字重复四次的那个「字」\n",
    "      - `re.compile(r'((\\w+)\\2+)')`: 匹配重复两次或两次以上的，返回对应的值和那个重复的「字」，必须整个用括号括起来\n",
    "  - `条件：(?(id)yes-expression|no-expression)`,  id 是 group name or number\n",
    "    - `yes-expression` is the pattern to use if the group has a value，如果 group 有返回值时执行 \n",
    "    - `no-expression` is the pattern to use otherwise.\n",
    "        - `(?= (<.*>$)|([^<].*[^>]$))`\n",
    "    - `条件表达式例子：(?(name)(?=(\\w+))|(?=([^<].*[^>]$)))`，如果找到 `name`，执行前面的，否则执行后面的\n",
    "    - `条件表达式例子2：(?(name)(?P<brackets>(?=(<.*>$)))|(?=([^<].*[^>]$)))`\n",
    "    - `调用（非条件表达式）：(?P<email>(?P=first_name)\\.(?P=last_name)@([\\w\\d.]+\\.)+(com|org|edu))`\n",
    "  - `(?pattern)`\n",
    "      - `(?!pattern)`: 前向否定，不匹配 pattern，匹配不是 bat 或 exe 后缀的：`.*[.](?!bat$|exe$).*$`；`re.compile(r'Isaac(?!Asimov)')`：Isaac 前面有 Asimov **不**能匹配 Isaac\n",
    "      - `(?=pattern)`: 前向肯定，匹配，A positive look ahead assertion，条件不占匹配符；`re.compile(r'Isaac(?=Asimov)')`：Isaac 前面有 Asimov 才能匹配 Isaac\n",
    "      - `(?<!noreply)` 后向否定，放在匹配到的 username 下和 `(?!noreply@.*$)` 放在最前面匹配是一样的；`re.compile(r'(?<!Asimov)Isaac')`：Isaac 后面有 Asimov **不**能匹配 Isaac\n",
    "      - `(?<=@)`: 后向肯定，A positive look behind assertion, must use a fixed length pattern；`re.compile(r'(?<=Asimov)Isaac')`：Isaac 后面有 Asimov 才能匹配 Isaac\n",
    "  - 环视\n",
    "      - `regex.compile(rf'(?<![{quantifier}]+\\w*)(之一)([{punc}]?)')`: 非固定宽度否定逆序环视，用后面的符号即做隔断，在结尾又可不存在。不等于 “数量词” + XXX + 之一，且标点结尾的；注意：quantifier 是 string\n",
    "      - `regex` 的环视**可以跳跃查找，而普通的 `re` 只能连在一起**\n",
    "          - 举个例子：找到 非量词 + 之一\n",
    "              - 普通正则：`(!量词)\\w+之一`：这样因为 `\\w` 包括了量词，所以并不能查找出来\n",
    "              - 环视方法：`(!量词)\\w+之一`：可以分成三部分：非量词+其他词+之一\n",
    "\n",
    "- `re.search()`\n",
    "  - 使用 pattern 扫描文本\n",
    "  - 如果找到则返回 Match 对象，否则返回 `None`\n",
    "    - `match.start(), match.end()` 返回匹配到对象的起止位置\n",
    "  - **`pattern.search()`**\n",
    "    - 返回子串，而不是 `re.search()` 的整个字符串\n",
    "\n",
    "- `re.match()`\n",
    "  - 只有 pattern 在文本的最开始才返回结果，否则返回 `None`\n",
    "\n",
    "- `re.findall()`\n",
    "  - `finditer` 返回一个迭代器，可以使用 `match.start(), match.end()` 返回起止位置\n",
    "  - `re.findall(r'a((a*)(b*))',t)`: 类似这种，第一个 a 是不返回到结果的，只返回括号里面的\n",
    "\n",
    "- 如果没有匹配到的话，match() 和 search() 将返回 None。如果成功的话，就会返回一个 `MatchObject` 实例，其中有这次匹配的信息：它是从哪里开始和结束，它所匹配的子串等等。findall() 在它返回结果时不得不创建一个列表。在 Python 2.2中，也可以用 finditer() 方法。\n",
    "\n",
    "- `groups()`\n",
    "  - **返回匹配到的字符序列**，不需要再用起止位置确定返回的字符串\n",
    "  - `group(index)`: 返回单独的一个 group（匹配到的结果）\n",
    "  - `(?P<name>pattern)`: 给一个 group 命名，`match.groupdict()` 返回 {名字:值} 的字典\n",
    "  - 用数字引用或用 `(?P=pattern_name)` 引用\n",
    "  - 组可以被嵌套。计数的数值可以通过从左到右计算打开的括号数来确定。`The groups()` 方法返回一个包含所有小组字符串的元组，从 **1** 到 所含的小组号。\n",
    "\n",
    "- `split(string [, maxsplit = 0])`\n",
    "  - `p2 = re.compile(r'(\\W+)')`: 打印出定界符，如果不需要则为：`p = re.compile(r'\\W+')`\n",
    "  - `re.compile().split(text, num)`: num 非 0 时，最多分成 num 段\n",
    "\n",
    "- `sub(replacement, string[, count = 0])` \n",
    "  - 可选参数 count 是模式匹配后替换的最大次数；count 必须是非负整数。缺省值是 0 表示替换所有的匹配。 \n",
    "  - 空匹配只有在它们没有紧挨着前一个匹配时才会被替换掉。`re.compile('x*').sub('-', 'abxd')`: `'-a-b-d-'`\n",
    "  - 可以指定用 `(?P<name>...)` 语法定义的命名组。\"`\\g<name>`\" 将通过组名 \"name\" 用子串来匹配，并且 \"`\\g<number>`\" 使用相应的组号。使用它可以消除组号和周围文字数字之间的任何歧义。\n",
    "  - 替换也可以是一个函数，该函数将会被模式中每一个不重复的匹配所调用。\n",
    "  - `subn()` 返回修改后的字符串和替换的数量\n",
    "\n",
    "- `replace`: 更快的替换\n",
    "\n",
    "-  `translate()`: 从一个字符串中删除单个字符或用另一个字符来替代它\n",
    "  - 可以用 `re.sub('\\n',' ', s)` 这样来实现，但 `translate()` 能够实现这两个任务，而且比任何正则表达式操作起来更快。\n",
    "  - `translate` 需要配合` string.maketrans` 使用。例如：`import string` 后 `'a1b3'.translate(string.maketrans('ab', 'cd'))` "
   ]
  },
  {
   "cell_type": "markdown",
   "metadata": {},
   "source": [
    "`re.compile('二' + str(wuliang_duliang+[\"位\", \"十\", \"百\", \"千\", \"万\", \"亿\"]))` 这种正则写法\n",
    "\n",
    "- 和 list 的顺序有关，所以首字一样的，长的放前面，否则长的匹配不到（肯定模式）\n",
    "- 会匹配到空格（元素中间有空格）\n",
    "- 还会匹配到单个词里面的每个词中间字的组合（肯定模式）。"
   ]
  },
  {
   "cell_type": "markdown",
   "metadata": {},
   "source": [
    "## 正则要义\n",
    "\n",
    "\n",
    "\n",
    "- 数量\n",
    "  - `{}` 多少次\n",
    "  - `*` 等于 `{0,}`，0 次或任意正次数\n",
    "  - `+`  等于 `{1,}`，1 次或任意正次数\n",
    "  - `?`  等于 `{0,1}`，0 次或 1 次\n",
    "  - pattern 后面加「?」（英文的问号）就是非贪婪匹配，默认是贪婪匹配（匹配尽可能多的字符）\n",
    "    - 也就是匹配数量少的次数（也就是 {} 左边的数字次数）\n",
    "\n",
    "- 转义\n",
    "  - 范围\n",
    "    - `[ab]`: a or b，`[\\w\\d.+-]` 里面的「.+-」就是代表自身\n",
    "    - `a[ab]+`: aa... or ab...\n",
    "    - `a[ab]+?`: aa or ab\n",
    "    - `[^-. ]+`: 不含 `-, ., 空格` 的，用补集来匹配不在区间范围内的字符，其做法是把\"^\"作为**类别**的**首个字符**；其它地方的\"^\"只会简单匹配 \"^\"字符本身\n",
    "    - `[A-Z][a-z]+`: 一个大写字母后面跟着小写字母\n",
    "    - 元字符在类别里（`[]` 里）并不起作用\n",
    "  - 小数点\n",
    "    - `.` 表示任何单独的字符，除了换行符（\\n）\n",
    "    - `a.*b`: a 后面任意字符，b 结尾\n",
    "    - `a.*?b`: a 后面任意字符，b 结尾，非贪婪\n",
    "  - 反斜杠\n",
    "    - `\\d`: a digit\n",
    "    - `\\D`: a non-digit\n",
    "    - `\\s`: whitespace(tab, space, newline, etc.)\n",
    "    - `\\S`: non-whitespace\n",
    "    - `\\w`: alphanumeric 字母数字\n",
    "    - `\\W`: non-alphanumeric 非字母数字（标点，符号如#等）\n",
    "    - `\\`: 转义\n",
    "  - 大多数字母和字符一般都会和自身匹配\n",
    "\n",
    "- 位置\n",
    "  - `^`: string or line 开始\n",
    "  - `$`: string or line 结尾\n",
    "  - `\\A`: string 开始\n",
    "  - `\\Z`: string 结尾\n",
    "  - `\\b`: empty string at the beginning or end of a word\n",
    "  - `\\B`: empty string not at the beginning or end of a word\n",
    "  - 例子\n",
    "    - `r'^\\w+',     # word at start of string`\n",
    "    - `r'\\A\\w+',    # word at start of string`\n",
    "    - `r'\\w+\\S*$',  # word at end of string, with optional punctuation`\n",
    "    - `r'\\w+\\S*\\Z', # word at end of string, with optional punctuation`\n",
    "    - `r'\\w*t\\w*',  # word containing 't'`\n",
    "    - `r'\\bt\\w+',   # 't' at start of word`\n",
    "    - `r'\\w+t\\b',   # 't' at end of word`\n",
    "    - `r'\\Bt\\B',    # 't', not start or end of word`\n",
    "\n",
    "- 逻辑\n",
    "  - `()`: 分组，视为整体\n",
    "  - `|`: 管道符，要么用左边的字符串匹配，要么用右边的匹配"
   ]
  },
  {
   "cell_type": "code",
   "execution_count": null,
   "metadata": {},
   "outputs": [],
   "source": []
  },
  {
   "cell_type": "markdown",
   "metadata": {},
   "source": [
    "## 参考&进阶\n",
    "\n",
    "- 笔记完全整理自以下教程（自认为应该比较完整）：\n",
    "  - Python Module of the Week上的讲 Python 的 re 包 https://pymotw.com/2/re/\n",
    "  - Ubuntu Wiki上的 [Python正则表达式操作指南 - Ubuntu中文](http://wiki.ubuntu.com.cn/Python%E6%AD%A3%E5%88%99%E8%A1%A8%E8%BE%BE%E5%BC%8F%E6%93%8D%E4%BD%9C%E6%8C%87%E5%8D%97)\n",
    "\n",
    "- Regex 工具\n",
    "  - regexper 可视化：https://regexper.com/\n",
    "  - pythex 在线测试正则表达式 http://pythex.org/\n",
    "  - regex101 另一个很漂亮的在线正则表达式测试器 https://regex101.com/\n",
    "\n",
    "- 进阶阅读\n",
    "  * re2 一个更快的Cython实现 https://pypi.python.org/pypi/re2/\n",
    "  * pyahocorasick 用字典树和Aho-Corasick自动机实现的超快的正则引擎 https://pypi.python.org/pypi/pyahocorasick/\n",
    "  * PythonVerbalExpressions 类自然语言构造正则表达式 https://github.com/VerbalExpressions/PythonVerbalExpressions\n",
    "  * Exrex 从正则表达式生成随机字符串  https://github.com/asciimoo/exrex\n",
    "  * PyParsing 构造正则语法（和更多规则）和提取的引擎 http://pyparsing.wikispaces.com/\n",
    "  * Parsley 更人性化的正则表达语法 http://parsley.readthedocs.io/en/latest/tutorial.html\n"
   ]
  },
  {
   "cell_type": "markdown",
   "metadata": {},
   "source": [
    "# 中文分词和词性标注"
   ]
  },
  {
   "cell_type": "markdown",
   "metadata": {},
   "source": [
    "分词方法：  \n",
    "\n",
    "- N-最短路径方法\n",
    "- 基于词的 n 元语法模型的分词方法\n",
    "- 由字构词的汉语分词方法\n",
    "- 基于词感知机算法的汉语分词方法\n",
    "- 基于字的生成式模型和区分式模型相结合的汉语分词方法\n",
    "\n",
    "词性标注方法：  \n",
    "\n",
    "- 基于统计模型的词性标注方法\n",
    "- 基于规则的词性标注方法\n",
    "- 统计方法与规则方法相结合的词性标注方法\n",
    "\n",
    "据测试，还是 `jieba` 效果最好，其他高校的都一般。"
   ]
  },
  {
   "cell_type": "markdown",
   "metadata": {
    "collapsed": true
   },
   "source": [
    "## `jieba`\n",
    "\n",
    "\n",
    "- [fxsjy/jieba: 结巴中文分词](https://github.com/fxsjy/jieba)\n",
    "\n",
    "官方文档清晰+简单，略，需要注意的是，结巴支持并行分词：将目标文本按行分隔后，把各行文本分配到多个 Python 进程并行分词，然后归并结果，从而获得分词速度的可观提升。"
   ]
  },
  {
   "cell_type": "markdown",
   "metadata": {
    "collapsed": true
   },
   "source": [
    "## `PyNLPIR`\n",
    "\n",
    "- [Tutorial — PyNLPIR 0.5.2 documentation](http://pynlpir.readthedocs.io/en/latest/tutorial.html)\n",
    "- [tsroten/pynlpir: A Python wrapper around the NLPIR/ICTCLAS Chinese segmentation software.](https://github.com/tsroten/pynlpir)\n",
    "- [NLPIR-team/NLPIR](https://github.com/NLPIR-team/NLPIR)\n",
    "- [NLPIR汉语分词系统](http://ictclas.nlpir.org/)   \n",
    "\n",
    "如果需要 license，下载到本地运行 `pynlpir update` 即可"
   ]
  },
  {
   "cell_type": "markdown",
   "metadata": {},
   "source": [
    "## 中文词性标记集\n",
    "\n",
    "- [词性标记： 包含 ICTPOS3.0词性标记集、ICTCLAS 汉语词性标注集、jieba 字典中出现的词性、simhash 中可以忽略的部分词性](https://gist.github.com/luw2007/6016931#file-md)\n",
    "- [结巴词性对照表](https://gist.github.com/hscspring/41e3bf8eab9ff28cc31d9ad012542c55)"
   ]
  },
  {
   "cell_type": "markdown",
   "metadata": {},
   "source": [
    "## 其他参考\n",
    "\n",
    "* 漫话中文自动分词和语义识别 http://www.matrix67.com/blog/archives/4212 http://www.matrix67.com/blog/archives/4870\n",
    "* genius 采用 CRF条件随机场算法 https://github.com/duanhongyi/genius\n",
    "* yaha \"哑哈\"中文分词 https://github.com/jannson/yaha\n",
    "* Pattern 用词性标签扩展的正则表达式，很神奇的 http://www.clips.ua.ac.be/pattern\n",
    "* NLTK提供了Stanford POS tagger的接口 http://www.nltk.org/api/nltk.tag.html#module-nltk.tag.stanford\n",
    "* 梁斌的pullword 在线分词API http://www.pullword.com/  \n",
    "\n",
    "除了 Matrix67（顾森大神）的博客，其他的除非是学习源代码，否则就跳过。"
   ]
  },
  {
   "cell_type": "markdown",
   "metadata": {},
   "source": [
    "# 命名实体识别\n",
    "\n",
    "- 斯坦福的，如果用 Python 可以用这个：[Lynten/stanford-corenlp: Python wrapper for Stanford CoreNLP.](https://github.com/Lynten/stanford-corenlp)\n",
    "- Java 版本按官网\n",
    "- nltk 也可以"
   ]
  },
  {
   "cell_type": "code",
   "execution_count": 1,
   "metadata": {
    "collapsed": true
   },
   "outputs": [],
   "source": [
    "from stanfordcorenlp import StanfordCoreNLP\n",
    "nlp = StanfordCoreNLP(r'/Users/HaoShaochun/Documents/stanford-corenlp/', lang='zh')"
   ]
  },
  {
   "cell_type": "code",
   "execution_count": 2,
   "metadata": {},
   "outputs": [
    {
     "name": "stdout",
     "output_type": "stream",
     "text": [
      "Tokenize: ['元芳', '你', '怎么', '看']\n",
      "Part of Speech: [('元芳', 'NR'), ('你', 'PN'), ('怎么', 'AD'), ('看', 'VV')]\n",
      "Named Entities: [('元芳', 'O'), ('你', 'O'), ('怎么', 'O'), ('看', 'O')]\n",
      "Constituency Parsing: (ROOT\n",
      "  (IP\n",
      "    (NP (NR 元芳))\n",
      "    (NP (PN 你))\n",
      "    (VP\n",
      "      (ADVP (AD 怎么))\n",
      "      (VP (VV 看)))))\n",
      "Dependency Parsing: [('ROOT', 0, 4), ('nmod:topic', 4, 1), ('nsubj', 4, 2), ('advmod', 4, 3)]\n"
     ]
    }
   ],
   "source": [
    "s = '元芳你怎么看'\n",
    "print ('Tokenize:', nlp.word_tokenize(s)) # 分词\n",
    "print ('Part of Speech:', nlp.pos_tag(s)) # 词性标注\n",
    "print ('Named Entities:', nlp.ner(s)) # 命名实体\n",
    "print ('Constituency Parsing:', nlp.parse(s)) # 句法\n",
    "print ('Dependency Parsing:', nlp.dependency_parse(s)) # 依存"
   ]
  },
  {
   "cell_type": "markdown",
   "metadata": {},
   "source": [
    "# 作业\n",
    "\n",
    "综合分词工具和正则表达式提取邮件签名档\n",
    "\n",
    "下面有几个来自真实邮件的签名档，请尽可能提取下面的关键字段\n",
    "\n",
    "- 姓名\n",
    "- 单位\n",
    "- 电话号码\n",
    "- 电子邮件"
   ]
  },
  {
   "cell_type": "markdown",
   "metadata": {},
   "source": [
    "## 思路\n",
    "\n",
    "\n",
    "- 对每一组数据的每一行进行正则过滤\n",
    "  - 电话号码正则表达式\n",
    "  - 电子邮件正则表达式\n",
    "- 对每一组数据的每一行剔除正则筛选后进行词性识别\n",
    "  - 人名：姓名\n",
    "  - 机构名：单位"
   ]
  },
  {
   "cell_type": "markdown",
   "metadata": {},
   "source": [
    "## 实现"
   ]
  },
  {
   "cell_type": "code",
   "execution_count": 1,
   "metadata": {
    "collapsed": true
   },
   "outputs": [],
   "source": [
    "from collections import OrderedDict\n",
    "import re\n",
    "import jieba.posseg as pseg"
   ]
  },
  {
   "cell_type": "code",
   "execution_count": 2,
   "metadata": {
    "collapsed": true
   },
   "outputs": [],
   "source": [
    "with open('./data.txt') as f:\n",
    "    data = f.read()"
   ]
  },
  {
   "cell_type": "code",
   "execution_count": 8,
   "metadata": {
    "collapsed": true
   },
   "outputs": [],
   "source": [
    "p_email = re.compile('''\n",
    "                     (?P<email>\n",
    "                     [\\w+\\d]+\n",
    "                     @\n",
    "                     .+\n",
    "                     )''', re.UNICODE | re.VERBOSE)\n",
    "p_telephone = re.compile('''\n",
    "                         (?P<telephone>\n",
    "                         \\+\\d{1,4}\\s\\d{3}\\s.+\n",
    "                         | \\d{3,4}-\\d{8}.*\n",
    "                         )''', re.UNICODE | re.VERBOSE)\n",
    "p_cellphone = re.compile('''\n",
    "                         (?P<cellphone>\n",
    "                         \\+\\d{1,4}\\s\\d{11}\n",
    "                         | \\d{11} \n",
    "                         )''', re.UNICODE | re.VERBOSE)"
   ]
  },
  {
   "cell_type": "code",
   "execution_count": 77,
   "metadata": {},
   "outputs": [
    {
     "data": {
      "text/plain": [
       "[OrderedDict([('姓名', '刘三'),\n",
       "              ('单位', ''),\n",
       "              ('电话号码', ''),\n",
       "              ('手机号码', '+86 15912348765'),\n",
       "              ('电子邮件', 'sfghsdfg@abc.org.cn')]),\n",
       " OrderedDict([('姓名', '李四'),\n",
       "              ('单位', '北清大数据产业联合会'),\n",
       "              ('电话号码', '010-34355675'),\n",
       "              ('手机号码', ''),\n",
       "              ('电子邮件', 'lisi@beiqingdata.com')]),\n",
       " OrderedDict([('姓名', 'John Smith'),\n",
       "              ('单位', 'Data and Web Science Group'),\n",
       "              ('电话号码', '+49 621 123 4567'),\n",
       "              ('手机号码', ''),\n",
       "              ('电子邮件', '')]),\n",
       " OrderedDict([('姓名', '王五'),\n",
       "              ('单位', 'CSDN-全球最大中文IT技术社区（www.csdn.net）'),\n",
       "              ('电话号码', '010-51661202-257'),\n",
       "              ('手机号码', '13934567890'),\n",
       "              ('电子邮件', 'gdagsdfs@csdn.net')]),\n",
       " OrderedDict([('姓名', '张三'),\n",
       "              ('单位', '北京市张三律师事务所|Beijing Zhangsan Law Firm'),\n",
       "              ('电话号码', ''),\n",
       "              ('手机号码', '15023345465'),\n",
       "              ('电子邮件', 'dfgasedt@126.com')])]"
      ]
     },
     "execution_count": 77,
     "metadata": {},
     "output_type": "execute_result"
    }
   ],
   "source": [
    "results = []\n",
    "nt_dict = ['社区', 'Group', '事务所']\n",
    "nr_dict = ['John', 'Smith']\n",
    "\n",
    "for part in data.split('--------------------------'):\n",
    "    tmp = OrderedDict()\n",
    "    org = \"\"\n",
    "    name = []\n",
    "    telephone = p_telephone.findall(part)\n",
    "    cellphone = p_cellphone.findall(part)\n",
    "    email = p_email.findall(part)\n",
    "    for seg in part.split('\\n'):\n",
    "        # 判断是否已经抽取，加快速度\n",
    "        if seg in (telephone + cellphone + email) or len(seg) == 0:\n",
    "            continue\n",
    "        for w,f in pseg.cut(seg):\n",
    "            if f == 'nt' or w in nt_dict:\n",
    "                org = seg\n",
    "            if (f == 'nr' or w in nr_dict) and w not in name:\n",
    "                name.append(w)\n",
    "            tmp['姓名'] = \" \".join(name)\n",
    "            tmp['单位'] = org\n",
    "    tmp['电话号码'] = \"\".join(telephone)\n",
    "    tmp['手机号码'] = \"\".join(cellphone)\n",
    "    tmp['电子邮件'] = \"\".join(email)\n",
    "    results.append(tmp)\n",
    "results"
   ]
  },
  {
   "cell_type": "code",
   "execution_count": null,
   "metadata": {
    "collapsed": true
   },
   "outputs": [],
   "source": []
  }
 ],
 "metadata": {
  "kernelspec": {
   "display_name": "Python 3",
   "language": "python",
   "name": "python3"
  },
  "language_info": {
   "codemirror_mode": {
    "name": "ipython",
    "version": 3
   },
   "file_extension": ".py",
   "mimetype": "text/x-python",
   "name": "python",
   "nbconvert_exporter": "python",
   "pygments_lexer": "ipython3",
   "version": "3.6.5"
  },
  "latex_envs": {
   "LaTeX_envs_menu_present": true,
   "autoclose": false,
   "autocomplete": true,
   "bibliofile": "biblio.bib",
   "cite_by": "apalike",
   "current_citInitial": 1,
   "eqLabelWithNumbers": true,
   "eqNumInitial": 1,
   "hotkeys": {
    "equation": "Ctrl-E",
    "itemize": "Ctrl-I"
   },
   "labels_anchors": false,
   "latex_user_defs": false,
   "report_style_numbering": false,
   "user_envs_cfg": false
  },
  "toc": {
   "base_numbering": 1,
   "nav_menu": {
    "height": "120px",
    "width": "252px"
   },
   "number_sections": true,
   "sideBar": true,
   "skip_h1_title": false,
   "title_cell": "Table of Contents",
   "title_sidebar": "Contents",
   "toc_cell": true,
   "toc_position": {},
   "toc_section_display": "block",
   "toc_window_display": true
  }
 },
 "nbformat": 4,
 "nbformat_minor": 1
}
