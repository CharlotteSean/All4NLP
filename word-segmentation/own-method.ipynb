{
 "cells": [
  {
   "cell_type": "code",
   "execution_count": 2,
   "metadata": {},
   "outputs": [],
   "source": [
    "from pypinyin import pinyin, lazy_pinyin, Style"
   ]
  },
  {
   "cell_type": "code",
   "execution_count": 3,
   "metadata": {},
   "outputs": [],
   "source": [
    "import jieba\n",
    "import re"
   ]
  },
  {
   "cell_type": "code",
   "execution_count": 161,
   "metadata": {},
   "outputs": [
    {
     "data": {
      "text/plain": [
       "[['te4'], ['bie2'], ['shi4'], ['yi2'], ['zhong3'], ['guo3'], ['shu4']]"
      ]
     },
     "execution_count": 161,
     "metadata": {},
     "output_type": "execute_result"
    }
   ],
   "source": [
    "pinyin('特别适宜种果树', style=Style.TONE3, heteronym=False) # heteronym 开启多音字"
   ]
  },
  {
   "cell_type": "code",
   "execution_count": 5,
   "metadata": {},
   "outputs": [],
   "source": [
    "data = []\n",
    "with open ('/Users/HaoShaochun/Desktop/病句.txt', 'r') as f:\n",
    "    for line in f.readlines():\n",
    "        if len(line) <= 2:\n",
    "            continue\n",
    "        data.append(line.strip())"
   ]
  },
  {
   "cell_type": "code",
   "execution_count": 7,
   "metadata": {},
   "outputs": [],
   "source": [
    "test = data[:5]"
   ]
  },
  {
   "cell_type": "code",
   "execution_count": 159,
   "metadata": {},
   "outputs": [
    {
     "name": "stdout",
     "output_type": "stream",
     "text": [
      "出现了并列的短语\n",
      "可能是搭配不当\n",
      "语序不当或语意不明\n",
      "有关部门对极少数不尊重环卫工人劳动\n",
      "甚至殴打侮辱环卫工人的事件\n",
      "及时进行了批评教育和严肃处理\n",
      "我们家乡美丽而富饶\n",
      "这里土地肥沃\n",
      "特别适宜种果树\n",
      "还适宜栽种梨树和枣树\n",
      "梨树和枣树\n",
      "采风小组搜集了近七百万字的民间故事\n",
      "七百余首情歌和少量民歌\n",
      "二者是交叉关系\n",
      "全厂职工讨论和听取了厂长关于改善经营管理的报告\n",
      "听取和讨论\n",
      "有时间上的先后关系\n"
     ]
    }
   ],
   "source": [
    "words = []\n",
    "for sen in test:\n",
    "    for s in re.compile(rf'[\\W]+').split(sen):\n",
    "        if len(s) < 5:\n",
    "            continue\n",
    "        print(s)\n",
    "        pys = pinyin(s, style=Style.TONE3, heteronym=False)\n",
    "        tmp = \"\"\n",
    "        tmp2 = \"\"\n",
    "        for i,py in enumerate(pys):\n",
    "            if re.findall(rf'[a-z]', py[0][-1]):\n",
    "                continue\n",
    "            if int(py[0][-1]) < 4:\n",
    "                tmp += s[i]\n",
    "                if len(tmp2) > 0:\n",
    "                    words.append(tmp2)\n",
    "                tmp2 = \"\"\n",
    "            else:\n",
    "                tmp2 += tmp+s[i]\n",
    "                tmp = \"\"\n",
    "        if len(tmp2) > 0:\n",
    "            words.append(tmp2)\n",
    "        if len(tmp) > 0:\n",
    "            words.append(tmp)"
   ]
  },
  {
   "cell_type": "code",
   "execution_count": 160,
   "metadata": {},
   "outputs": [
    {
     "data": {
      "text/plain": [
       "['出现并列',\n",
       " '短语',\n",
       " '可能是',\n",
       " '搭配不当',\n",
       " '语序不当或',\n",
       " '语意不',\n",
       " '明',\n",
       " '有关部',\n",
       " '门对',\n",
       " '极少数不',\n",
       " '尊重',\n",
       " '环卫',\n",
       " '工人劳动',\n",
       " '甚至',\n",
       " '殴打侮辱环卫',\n",
       " '工人事件',\n",
       " '及时进',\n",
       " '行批评教育',\n",
       " '和严肃',\n",
       " '处理',\n",
       " '我家乡美丽',\n",
       " '而富',\n",
       " '饶',\n",
       " '这',\n",
       " '里土地',\n",
       " '肥沃',\n",
       " '特',\n",
       " '别适',\n",
       " '宜种果树',\n",
       " '还适',\n",
       " '宜栽种',\n",
       " '梨树',\n",
       " '和枣树',\n",
       " '梨树',\n",
       " '和枣树',\n",
       " '采风小组搜集近',\n",
       " '七百万字',\n",
       " '民间故事',\n",
       " '七百余首情歌和少量',\n",
       " '民歌',\n",
       " '二',\n",
       " '者是',\n",
       " '交叉关系',\n",
       " '全厂职工讨论',\n",
       " '和听取厂长关于改善',\n",
       " '经营管理报告',\n",
       " '听取和讨论',\n",
       " '有时间上',\n",
       " '先后',\n",
       " '关系']"
      ]
     },
     "execution_count": 160,
     "metadata": {},
     "output_type": "execute_result"
    }
   ],
   "source": [
    "words"
   ]
  },
  {
   "cell_type": "code",
   "execution_count": 203,
   "metadata": {},
   "outputs": [],
   "source": [
    "psplit = re.compile(rf'([和了的是或对而极不还近])(?!当|明)')"
   ]
  },
  {
   "cell_type": "code",
   "execution_count": 206,
   "metadata": {},
   "outputs": [],
   "source": [
    "words = []\n",
    "for sen in data[5:10]:\n",
    "    for s in re.compile(rf'[\\W]+').split(sen):\n",
    "        if len(s) < 5:\n",
    "            continue\n",
    "        for w in psplit.split(s):\n",
    "            if len(w) <= 4:\n",
    "                words.append(w)\n",
    "            else:\n",
    "                for i in range(len(w)):\n",
    "                    tmp = w[i*2:(i+1)*2]\n",
    "                    if len(tmp) != 0:\n",
    "                        words.append(tmp)"
   ]
  },
  {
   "cell_type": "code",
   "execution_count": 207,
   "metadata": {
    "scrolled": false
   },
   "outputs": [
    {
     "data": {
      "text/plain": [
       "['文件',\n",
       " '对',\n",
       " '经济',\n",
       " '领域',\n",
       " '中一',\n",
       " '些问',\n",
       " '题从',\n",
       " '理论',\n",
       " '上',\n",
       " '和',\n",
       " '政策上作',\n",
       " '了',\n",
       " '详细',\n",
       " '的',\n",
       " '规定',\n",
       " '和',\n",
       " '深刻',\n",
       " '的',\n",
       " '说明',\n",
       " '从理论上',\n",
       " '和',\n",
       " '政策上',\n",
       " '详细',\n",
       " '的',\n",
       " '规定',\n",
       " '和',\n",
       " '深刻',\n",
       " '的',\n",
       " '说明',\n",
       " '',\n",
       " '近',\n",
       " '日新',\n",
       " '区法',\n",
       " '院审',\n",
       " '结',\n",
       " '了',\n",
       " '这起案件',\n",
       " '违约经营',\n",
       " '的',\n",
       " '小张',\n",
       " '被判',\n",
       " '令赔',\n",
       " '偿原',\n",
       " '告好',\n",
       " '路缘',\n",
       " '商贸',\n",
       " '公司',\n",
       " '经济',\n",
       " '损失',\n",
       " '和',\n",
       " '诉讼',\n",
       " '费三',\n",
       " '千余',\n",
       " '元',\n",
       " '经济损失',\n",
       " '和',\n",
       " '诉讼费',\n",
       " '有关部门',\n",
       " '对',\n",
       " '瓮安',\n",
       " '事件',\n",
       " '中',\n",
       " '极',\n",
       " '少数',\n",
       " '不明',\n",
       " '真相',\n",
       " '的',\n",
       " '群众',\n",
       " '冲击',\n",
       " '市委',\n",
       " '市政',\n",
       " '府',\n",
       " '的',\n",
       " '事件',\n",
       " '及时进行',\n",
       " '了',\n",
       " '批评教育',\n",
       " '和',\n",
       " '严肃处理',\n",
       " '我们',\n",
       " '家乡',\n",
       " '美丽',\n",
       " '而',\n",
       " '富饶',\n",
       " '这里',\n",
       " '土地',\n",
       " '肥沃',\n",
       " '特别',\n",
       " '适宜',\n",
       " '种果',\n",
       " '树',\n",
       " '',\n",
       " '还',\n",
       " '适宜',\n",
       " '栽种',\n",
       " '梨树',\n",
       " '和',\n",
       " '枣树',\n",
       " '梨树',\n",
       " '和',\n",
       " '枣树',\n",
       " '人大',\n",
       " '代表',\n",
       " '讨论',\n",
       " '和',\n",
       " '听取',\n",
       " '了',\n",
       " '国务',\n",
       " '院关',\n",
       " '于扩',\n",
       " '大内',\n",
       " '需',\n",
       " '刺激消费',\n",
       " '的',\n",
       " '报告',\n",
       " '听取',\n",
       " '和',\n",
       " '讨论',\n",
       " '有时间上',\n",
       " '的',\n",
       " '先后关系']"
      ]
     },
     "execution_count": 207,
     "metadata": {},
     "output_type": "execute_result"
    }
   ],
   "source": [
    "words"
   ]
  },
  {
   "cell_type": "code",
   "execution_count": null,
   "metadata": {},
   "outputs": [],
   "source": []
  },
  {
   "cell_type": "code",
   "execution_count": null,
   "metadata": {},
   "outputs": [],
   "source": []
  },
  {
   "cell_type": "code",
   "execution_count": null,
   "metadata": {},
   "outputs": [],
   "source": []
  },
  {
   "cell_type": "code",
   "execution_count": 14,
   "metadata": {},
   "outputs": [
    {
     "data": {
      "text/plain": [
       "['1. 出现了并列的短语，可能是搭配不当、分类不当、语序不当或语意不明',\n",
       " '有关部门对极少数不尊重环卫工人劳动、无理取闹、甚至殴打侮辱环卫工人的事件，及时进行了批评教育和严肃处理。(搭配不当，“事件” 不可以 “批评教育”)',\n",
       " '我们家乡美丽而富饶，这里土地肥沃，特别适宜种果树、棉花、甘庶，此外，还适宜栽种梨树和枣树。(分类不当，“梨树和枣树” 都是 “果树”)',\n",
       " '采风小组搜集了近七百万字的民间故事、七百余首情歌和少量民歌。（分类不当，“情歌” 与 “民歌” 互有包容，二者是交叉关系，不能并列。）',\n",
       " '全厂职工讨论和听取了厂长关于改善经营管理的报告。(语序不当，应为 “听取和讨论”，有时间上的先后关系)']"
      ]
     },
     "execution_count": 14,
     "metadata": {},
     "output_type": "execute_result"
    }
   ],
   "source": [
    "test"
   ]
  },
  {
   "cell_type": "code",
   "execution_count": null,
   "metadata": {},
   "outputs": [],
   "source": []
  },
  {
   "cell_type": "code",
   "execution_count": null,
   "metadata": {},
   "outputs": [],
   "source": []
  },
  {
   "cell_type": "code",
   "execution_count": null,
   "metadata": {},
   "outputs": [],
   "source": []
  },
  {
   "cell_type": "code",
   "execution_count": 40,
   "metadata": {},
   "outputs": [
    {
     "data": {
      "text/plain": [
       "'当脑 | 认知科学 | 遇上 | 教育昨天 | 朋友圈 | 被 | 一条 | 新闻 | 刷屏 | 了 | ， | 中国 | 脑 | 计划 | 预计 | 年底 | 出台 | ， | 投资规模 | 比肩 | 美国 | 。 | 经过 | 三年 | 多 | 酝酿 | ， | 中国 | 脑 | 计划 | 开始 | 落地 | 。 | 令人振奋 | 的 | 是 | ， | 中国政府 | 投入 | 资金 | 超出 | 预计 | 。 | 看到 | 这 | 条 | 新闻 | 的 | 师友 | ， | 都 | 纷纷 | 来 | 祝福 | 我 | 。 | 这 | 是因为 | 早 | 在 |   | 2011 |   | 年 | ， | 我 | 已 | 在 | 脑 | 与 | 认知科学 | 领域 | 投资 | 与 | 布局 | 。脑 | 与 | 认知科学 | 比 | 你 | 想象 | 的 | 还要 | 重要 | 。 | 当 | 你 | 每天 | 醒来 | ， | 使用 | 视觉 | 看到 | 什么 | ， | 然后 | 使用 | 听觉 | 听到 | 什么 | ， | 再 | 记忆 | 什么 | 时 | ， | 这 | 就是 | 脑 | 与 | 认知科学 | 研究 | 的 | 注意 | 与 | 记忆 | 。 | 当 | 你 | 决策 | 早餐 | 吃 | 什么 | ， | 上班 | 后先 | 干什么 | ， | 后 | 干什么 | ， | 怎么 | 干 | 的 | 时候 | ， | 这 | 就是 | 脑 | 与 | 认知科学 | 研究 | 的 | 决策 | 与 | 问题 | 解决 | 。 | 当 | 你 | 决定 | 如何 | 学习 | ， | 在 | 课堂 | 上 | 写 | 笔记 | 还是 | 课后 | 写 | 笔记 | ， | 同时 | 看 | 两本书 | 还是 | 一本 | 看 | 完 | 再 | 看 | 另 | 一本 | ， | 这 | 就是 | 脑 | 与 | 认知科学 | 研究 | 的 | 学习 | 与 | 专业技能 | 习得 | 。如果 | 你 | 恰恰 | 为 | 人 | 父母 | ， | 那么 | 你 | 更 | 需要 | 关心 | 脑 | 与 | 认知科学 | 。 | 在 | 宝宝 | 出生 | 后 | 的 |   | 1 | - | 2 |   | 年内 | ， | 是 | 宝宝 | 的 | 大脑 | 发育 | 最 | 迅猛 | 的 | 时期 | 。 | 如果 | 每个 | 爸爸妈妈 | 在 | 儿童 | 发展 | 早期 | 多 | 掌握 | 一些 | 靠 | 谱 | 的 | 脑科学 | 与 | 儿童 | 心理学 | 知识 | ， | 那么 | ， | 孩子 | 的 | 未来 | 就 | 会 | 好 | 上 | 一点点 | 。 |   | 正是 | 脑 | 与 | 认知科学 | 与 | 你 | 我 | 如此 | 息息相关 | ， | 因此 | ， | 各国 | 纷纷 | 发起 | 脑 | 计划 | ， | 迎来 | 人类 | 历史 | 上 | 的 | 脑 | 与 | 认知科学 | 研究 | 的 | 黄金时代 | 。 | 2013 |   | 年 |   | 1 |   | 月 | 和 |   | 4 |   | 月 | ， | 欧盟 | 和 | 美国 | 分别 | 投入 |   | 10 |   | 亿 | 欧元 | 和 |   | 46 |   | 亿美元 | ， | 率先 | 启动 | 人类 | 大脑 | 研究 | 计划 | 。 | 每个 | 时代 | 都 | 会 | 带来 | 不同 | 机遇 | 。 | 过去 | 十年 | ， | 互联网 | 成就 | 了 | 以 |   | BAT |   | 为 | 代表 | 的 | 科技产业 | 领头羊 | ； | 人类 | 基因组 | 计划 | 成就 | 了 | 以 | 华大基因 | 为 | 代表 | 的 | 生物 | 巨头 | ； | 未来 | 重大 | 产业 | 机遇 | ， | 将 | 在 | 脑科学 | 与 | 类脑 | 智能 | 研发 | 领域 | 。激动人心 | 的 | 人类 | 脑 | 计划 | 大 | 事件 | ， | 你 | 我 | 该 | 如何 | 参与 | ？ |   | 于 | 我 | 而言 | ， | 就是 | 在 |   | 2014 |   | 年 | 创办 | 安 | 人 | 心智 | 公司 | 。 | 安 | 人 | 心智 | 是 | 一家 | 创新 | 驱动 | 的 | 脑 | 认知 | 科技 | 专业 | 公司 | ， | 伴随 | 人类 | 脑 | 计划 | 成长 | ， | 以 | 测量 | 与 | 增强 | 人类 | 认知 | 能力 | 为 | 使命 | ， | 推动 | 脑 | 与 | 认知科学 | 在 | 商业 | 领域 | 的 | 实践 | 。 |   | 旗下 | 子公司 | 包括 | ： | 爱贝睿 | （ | 基于 | 脑 | 与 | 认知科学 | 的 | 新一代 | 儿童教育 | 机构 | ） | 、 | 开智 | （ | 认知 | 科技 | 驱动 | 的 | 职业 | 教育 | 机构 | ） | 等 | ， | 孵化 | 爱 | 银发 | 、 | 写匠 | 等 | 脑科学 | 与 | 类脑 | 智能 | 项目 | 。 | （ | 更 | 多 | 资讯 | 参见 | ： | http | : | / | / | www | . | anrenmind | . | com | / | ）'"
      ]
     },
     "execution_count": 40,
     "metadata": {},
     "output_type": "execute_result"
    }
   ],
   "source": [
    "\"\".join([\" | \".join(list(jieba.cut(test[i]))) for i in range(len(test))])"
   ]
  },
  {
   "cell_type": "code",
   "execution_count": 41,
   "metadata": {},
   "outputs": [
    {
     "data": {
      "text/plain": [
       "[['1'], ['yue4']]"
      ]
     },
     "execution_count": 41,
     "metadata": {},
     "output_type": "execute_result"
    }
   ],
   "source": [
    "pinyin('1月', style=Style.TONE3, heteronym=False) # heteronym 开启多音字"
   ]
  },
  {
   "cell_type": "code",
   "execution_count": 49,
   "metadata": {},
   "outputs": [],
   "source": [
    "tmp =  re.compile(\"[、（），！。？]\").split(\"\".join(test))"
   ]
  },
  {
   "cell_type": "code",
   "execution_count": 69,
   "metadata": {},
   "outputs": [
    {
     "data": {
      "text/plain": [
       "'如果每个爸爸妈妈在儿童发展早期多掌握一些靠谱的脑科学与儿童心理学知识'"
      ]
     },
     "execution_count": 69,
     "metadata": {},
     "output_type": "execute_result"
    }
   ],
   "source": [
    "s = tmp[30]\n",
    "s"
   ]
  },
  {
   "cell_type": "code",
   "execution_count": 70,
   "metadata": {},
   "outputs": [
    {
     "name": "stdout",
     "output_type": "stream",
     "text": [
      "如 ru2\n",
      "果 guo3\n",
      "每 mei3\n",
      "个 ge4\n",
      "爸 ba4\n",
      "爸 ba4\n",
      "妈 ma1\n",
      "妈 ma1\n",
      "在 zai4\n",
      "儿 er2\n",
      "童 tong2\n",
      "发 fa1\n",
      "展 zhan3\n",
      "早 zao3\n",
      "期 qi1\n",
      "多 duo1\n",
      "掌 zhang3\n",
      "握 wo4\n",
      "一 yi1\n",
      "些 xie1\n",
      "靠 kao4\n",
      "谱 pu3\n",
      "的 de\n",
      "脑 nao3\n",
      "科 ke1\n",
      "学 xue2\n",
      "与 yu3\n",
      "儿 er2\n",
      "童 tong2\n",
      "心 xin1\n",
      "理 li3\n",
      "学 xue2\n",
      "知 zhi1\n",
      "识 shi4\n"
     ]
    }
   ],
   "source": [
    "for i,w in enumerate(s):\n",
    "    print(w, pinyin(w, style=Style.TONE3, heteronym=False)[0][0]) # heteronym 开启多音字"
   ]
  },
  {
   "cell_type": "code",
   "execution_count": null,
   "metadata": {},
   "outputs": [],
   "source": []
  }
 ],
 "metadata": {
  "kernelspec": {
   "display_name": "Python 3",
   "language": "python",
   "name": "python3"
  },
  "language_info": {
   "codemirror_mode": {
    "name": "ipython",
    "version": 3
   },
   "file_extension": ".py",
   "mimetype": "text/x-python",
   "name": "python",
   "nbconvert_exporter": "python",
   "pygments_lexer": "ipython3",
   "version": "3.6.2"
  },
  "toc": {
   "colors": {
    "hover_highlight": "#DAA520",
    "running_highlight": "#FF0000",
    "selected_highlight": "#FFD700"
   },
   "moveMenuLeft": true,
   "nav_menu": {
    "height": "12px",
    "width": "252px"
   },
   "navigate_menu": true,
   "number_sections": true,
   "sideBar": true,
   "threshold": 4,
   "toc_cell": false,
   "toc_section_display": "block",
   "toc_window_display": false
  }
 },
 "nbformat": 4,
 "nbformat_minor": 2
}
