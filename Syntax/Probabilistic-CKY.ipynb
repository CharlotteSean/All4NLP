{
 "cells": [
  {
   "cell_type": "code",
   "execution_count": 4,
   "metadata": {},
   "outputs": [],
   "source": [
    "wlist = \"book the flight through Houston\".split()"
   ]
  },
  {
   "cell_type": "code",
   "execution_count": 5,
   "metadata": {},
   "outputs": [],
   "source": [
    "Lexicon = {\n",
    "    \"that:0.1 | this:0 | the:0.6 | a:0.3\": \"Det\",\n",
    "    \"book:0.1 | flight:0.3 | meal:0.05 | money:0.05 | food:0.4 | dinner:0.1\": \"Noun\",\n",
    "    \"book:0.3 | include:0.3 | prefer:0.4\": \"Verb\",\n",
    "    \"I:0.4 | she:0.05 | me:0.15 | you:0.4\": \"Pronoun\",\n",
    "    \"Houston:0.6 | NWA:0.4\": \"Proper-Noun\",\n",
    "    \"does:0.6 | can:0.4\": \"Aux\",\n",
    "    \"from:0.3 | to:0.3 | on:0.2 | near:0.15 | through:0.05\": \"Preposition\"\n",
    "}"
   ]
  },
  {
   "cell_type": "code",
   "execution_count": 6,
   "metadata": {},
   "outputs": [],
   "source": [
    "Grammar = {\n",
    "    \"S -> NP VP\": 0.8,\n",
    "    \"S -> Aux NP VP\": 0.15,\n",
    "    \"S -> VP\": 0.05,\n",
    "    \"NP -> Pronoun\": 0.35,\n",
    "    \"NP -> Proper-Noun\": 0.3,\n",
    "    \"NP -> Det Nominal\": 0.2,\n",
    "    \"NP -> Nominal\": 0.15,\n",
    "    \"Nominal -> Noun\": 0.75,\n",
    "    \"Nominal -> Nominal Noun\": 0.2,\n",
    "    \"Nominal -> Nominal PP\": 0.05,\n",
    "    \"VP -> Verb\": 0.35,\n",
    "    \"VP -> Verb NP\": 0.2,\n",
    "    \"VP -> Verb NP PP\": 0.1,\n",
    "    \"VP -> Verb PP\": 0.15,\n",
    "    \"VP -> Verb NP NP\": 0.05,\n",
    "    \"VP -> VP PP\": 0.15,\n",
    "    \"PP -> Preposition NP\": 1,\n",
    "    }"
   ]
  },
  {
   "cell_type": "code",
   "execution_count": 7,
   "metadata": {},
   "outputs": [],
   "source": [
    "def Lexicon2CNF(Lexicon: dict) -> dict:\n",
    "    res = {}\n",
    "    for key,value in Lexicon.items():\n",
    "        for item in key.split(\" | \"):\n",
    "            w,p = item.split(\":\")\n",
    "            res[value + \" -> \" + w] = p\n",
    "    return res"
   ]
  },
  {
   "cell_type": "code",
   "execution_count": 8,
   "metadata": {},
   "outputs": [],
   "source": [
    "def Grammar2CNF(Grammar: dict) -> dict:\n",
    "    res = {}\n",
    "    i = 0\n",
    "    for k,v in Grammar.items():\n",
    "        l,r = k.split(\" -> \")\n",
    "        rlist = r.split(\" \")\n",
    "        if len(rlist) == 1:\n",
    "            for wf,n in Lexicon.items():\n",
    "                if n == r:\n",
    "                    res[l + \" -> \" + wf] = v\n",
    "        elif len(rlist) == 2:\n",
    "            res[k] = v\n",
    "        else:\n",
    "            i += 1\n",
    "            newr1 = \" \".join(rlist[: 2])\n",
    "            newr2 = \"X\" + str(i) + \" \" + rlist[-1]\n",
    "            res[\"X\" + str(i) + \" -> \" + newr1] = 1\n",
    "            res[l + \" -> \" + newr2] = v\n",
    "    miduse = res.copy()\n",
    "#     count = {}\n",
    "#     for k,v in Grammar.items():\n",
    "#         l,r = k.split(\" -> \")\n",
    "#         rlist = r.split(\" \")\n",
    "#         if len(rlist) == 1:\n",
    "#             for kk,vv in miduse.items():\n",
    "#                 ll,rr = kk.split(\" -> \")\n",
    "#                 if r == ll:\n",
    "#                     if k in count:\n",
    "#                         count[k] += 1\n",
    "#                     else:\n",
    "#                         count[k] = 1\n",
    "    for k,v in Grammar.items():\n",
    "        l,r = k.split(\" -> \")\n",
    "        rlist = r.split(\" \")\n",
    "        if len(rlist) == 1:\n",
    "            for kk,vv in miduse.items():\n",
    "                ll,rr = kk.split(\" -> \")\n",
    "                if r == ll:\n",
    "                    res[l + \" -> \" + rr] = v\n",
    "    return res"
   ]
  },
  {
   "cell_type": "code",
   "execution_count": 9,
   "metadata": {},
   "outputs": [],
   "source": [
    "LexiconCNF = Lexicon2CNF(Lexicon)\n",
    "GrammarCNF = Grammar2CNF(Grammar)"
   ]
  },
  {
   "cell_type": "code",
   "execution_count": 10,
   "metadata": {
    "scrolled": false
   },
   "outputs": [
    {
     "data": {
      "text/plain": [
       "{'Det -> that': '0.1',\n",
       " 'Det -> this': '0',\n",
       " 'Det -> the': '0.6',\n",
       " 'Det -> a': '0.3',\n",
       " 'Noun -> book': '0.1',\n",
       " 'Noun -> flight': '0.3',\n",
       " 'Noun -> meal': '0.05',\n",
       " 'Noun -> money': '0.05',\n",
       " 'Noun -> food': '0.4',\n",
       " 'Noun -> dinner': '0.1',\n",
       " 'Verb -> book': '0.3',\n",
       " 'Verb -> include': '0.3',\n",
       " 'Verb -> prefer': '0.4',\n",
       " 'Pronoun -> I': '0.4',\n",
       " 'Pronoun -> she': '0.05',\n",
       " 'Pronoun -> me': '0.15',\n",
       " 'Pronoun -> you': '0.4',\n",
       " 'Proper-Noun -> Houston': '0.6',\n",
       " 'Proper-Noun -> NWA': '0.4',\n",
       " 'Aux -> does': '0.6',\n",
       " 'Aux -> can': '0.4',\n",
       " 'Preposition -> from': '0.3',\n",
       " 'Preposition -> to': '0.3',\n",
       " 'Preposition -> on': '0.2',\n",
       " 'Preposition -> near': '0.15',\n",
       " 'Preposition -> through': '0.05'}"
      ]
     },
     "execution_count": 10,
     "metadata": {},
     "output_type": "execute_result"
    }
   ],
   "source": [
    "LexiconCNF"
   ]
  },
  {
   "cell_type": "code",
   "execution_count": 11,
   "metadata": {},
   "outputs": [
    {
     "data": {
      "text/plain": [
       "{'S -> NP VP': 0.8,\n",
       " 'X1 -> Aux NP': 1,\n",
       " 'S -> X1 VP': 0.15,\n",
       " 'NP -> I:0.4 | she:0.05 | me:0.15 | you:0.4': 0.35,\n",
       " 'NP -> Houston:0.6 | NWA:0.4': 0.3,\n",
       " 'NP -> Det Nominal': 0.2,\n",
       " 'Nominal -> book:0.1 | flight:0.3 | meal:0.05 | money:0.05 | food:0.4 | dinner:0.1': 0.75,\n",
       " 'Nominal -> Nominal Noun': 0.2,\n",
       " 'Nominal -> Nominal PP': 0.05,\n",
       " 'VP -> book:0.3 | include:0.3 | prefer:0.4': 0.35,\n",
       " 'VP -> Verb NP': 0.2,\n",
       " 'X2 -> Verb NP': 1,\n",
       " 'VP -> X2 PP': 0.1,\n",
       " 'VP -> Verb PP': 0.15,\n",
       " 'X3 -> Verb NP': 1,\n",
       " 'VP -> X3 NP': 0.05,\n",
       " 'VP -> VP PP': 0.15,\n",
       " 'PP -> Preposition NP': 1,\n",
       " 'S -> book:0.3 | include:0.3 | prefer:0.4': 0.05,\n",
       " 'S -> Verb NP': 0.05,\n",
       " 'S -> X2 PP': 0.05,\n",
       " 'S -> Verb PP': 0.05,\n",
       " 'S -> X3 NP': 0.05,\n",
       " 'S -> VP PP': 0.05,\n",
       " 'NP -> book:0.1 | flight:0.3 | meal:0.05 | money:0.05 | food:0.4 | dinner:0.1': 0.15,\n",
       " 'NP -> Nominal Noun': 0.15,\n",
       " 'NP -> Nominal PP': 0.15}"
      ]
     },
     "execution_count": 11,
     "metadata": {},
     "output_type": "execute_result"
    }
   ],
   "source": [
    "GrammarCNF"
   ]
  },
  {
   "cell_type": "code",
   "execution_count": null,
   "metadata": {},
   "outputs": [],
   "source": []
  }
 ],
 "metadata": {
  "kernelspec": {
   "display_name": "Python 3",
   "language": "python",
   "name": "python3"
  },
  "language_info": {
   "codemirror_mode": {
    "name": "ipython",
    "version": 3
   },
   "file_extension": ".py",
   "mimetype": "text/x-python",
   "name": "python",
   "nbconvert_exporter": "python",
   "pygments_lexer": "ipython3",
   "version": "3.7.2"
  },
  "latex_envs": {
   "LaTeX_envs_menu_present": true,
   "autoclose": false,
   "autocomplete": true,
   "bibliofile": "biblio.bib",
   "cite_by": "apalike",
   "current_citInitial": 1,
   "eqLabelWithNumbers": true,
   "eqNumInitial": 1,
   "hotkeys": {
    "equation": "Ctrl-E",
    "itemize": "Ctrl-I"
   },
   "labels_anchors": false,
   "latex_user_defs": false,
   "report_style_numbering": false,
   "user_envs_cfg": false
  },
  "toc": {
   "base_numbering": 1,
   "nav_menu": {},
   "number_sections": true,
   "sideBar": true,
   "skip_h1_title": false,
   "title_cell": "Table of Contents",
   "title_sidebar": "Contents",
   "toc_cell": false,
   "toc_position": {},
   "toc_section_display": true,
   "toc_window_display": false
  }
 },
 "nbformat": 4,
 "nbformat_minor": 2
}
